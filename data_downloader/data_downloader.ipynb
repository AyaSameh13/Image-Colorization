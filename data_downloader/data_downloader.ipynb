{
  "nbformat": 4,
  "nbformat_minor": 0,
  "metadata": {
    "colab": {
      "name": "data_downloader",
      "version": "0.3.2",
      "provenance": [],
      "collapsed_sections": []
    },
    "kernelspec": {
      "name": "python3",
      "display_name": "Python 3"
    },
    "accelerator": "GPU"
  },
  "cells": [
    {
      "metadata": {
        "id": "O7nF5MaWK1MX",
        "colab_type": "text"
      },
      "cell_type": "markdown",
      "source": [
        "# Mount Drive"
      ]
    },
    {
      "metadata": {
        "id": "RFR-eqNDK7zi",
        "colab_type": "code",
        "colab": {
          "base_uri": "https://localhost:8080/",
          "height": 122
        },
        "outputId": "7e887fba-fa17-4514-a81a-d08c97d08a6f"
      },
      "cell_type": "code",
      "source": [
        "from google.colab import drive\n",
        "drive.mount('/gdrive')"
      ],
      "execution_count": 1,
      "outputs": []
      
    },
    {
      "metadata": {
        "id": "K3U2gIpnLIU4",
        "colab_type": "text"
      },
      "cell_type": "markdown",
      "source": [
        "# Paths\n"
      ]
    },
    {
      "metadata": {
        "id": "g_5z3QnbLKDS",
        "colab_type": "code",
        "colab": {}
      },
      "cell_type": "code",
      "source": [
        "PROJECT_DIR = \"\"\n",
        "DATA_DIR = PROJECT_DIR + \"/data\"\n",
        "DOWNLOAD_DIR = PROJECT_DIR + \"/data downloader\"\n",
        "\n",
        "IMAGENET_URL = \"http://image-net.org/imagenet_data/urls/imagenet_fall11_urls.tgz\""
      ],
      "execution_count": 0,
      "outputs": []
    },
    {
      "metadata": {
        "id": "f5CIIK39Lx6n",
        "colab_type": "text"
      },
      "cell_type": "markdown",
      "source": [
        "# Get Urls file"
      ]
    },
    {
      "metadata": {
        "id": "Ppr5K4JQL1Zl",
        "colab_type": "code",
        "colab": {
          "base_uri": "https://localhost:8080/",
          "height": 165
        },
        "outputId": "1acb101e-928a-4ef9-a9f2-c7a7993d4295"
      },
      "cell_type": "code",
      "source": [
        "!wget '$IMAGENET_URL' -P '$DOWNLOAD_DIR'\n",
        "!tar -zxvf '$DOWNLOAD_DIR/imagenet_fall11_urls.tgz' -C '$DOWNLOAD_DIR'"
      ],
      "execution_count": 0,
      "outputs": []
      
    },
    {
      "metadata": {
        "id": "COGZXGSzMjeX",
        "colab_type": "text"
      },
      "cell_type": "markdown",
      "source": [
        "# Download images"
      ]
    },
    {
      "metadata": {
        "id": "se7M0TliMllL",
        "colab_type": "code",
        "colab": {}
      },
      "cell_type": "code",
      "source": [
        "import os\n",
        "\n",
        "max_data = 20000\n",
        "count = 0\n",
        "fp = open(DOWNLOAD_DIR + '/fall11_urls.txt')\n",
        "line = fp.readline()\n",
        "while line and count < max_data:\n",
        "  url = line.split()[1]\n",
        "  \n",
        "  try:\n",
        "    \n",
        "    !wget '$url' -P '$DATA_DIR' -T  1 -t 1 -nc -c -q\n",
        "    filename = url.split(\"/\")[-1] \n",
        "    st = os.stat(DATA_DIR + \"/\" + filename)\n",
        "    size = st.st_size\n",
        "    if (size == 0):\n",
        "      !rm '$DATA_DIR/$filename'\n",
        "      continue\n",
        "    count = count + 1\n",
        "    print(\"Done {}/{}, {}\".format(count, max_data, url))\n",
        "  except:\n",
        "    pass\n",
        "  \n",
        "  \n",
        "  line = fp.readline()\n",
        "  \n",
        "\n",
        "\n",
        "\n",
        "fp.close()"
      ],
      "execution_count": 0,
      "outputs": []
    }
  ]
}
